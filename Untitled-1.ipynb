{
 "cells": [
  {
   "cell_type": "code",
   "execution_count": 10,
   "metadata": {},
   "outputs": [
    {
     "ename": "ModuleNotFoundError",
     "evalue": "No module named 'BaselineRemoval'",
     "output_type": "error",
     "traceback": [
      "\u001b[1;31m---------------------------------------------------------------------------\u001b[0m",
      "\u001b[1;31mModuleNotFoundError\u001b[0m                       Traceback (most recent call last)",
      "\u001b[1;32m~\\AppData\\Local\\Temp/ipykernel_28104/3167680226.py\u001b[0m in \u001b[0;36m<module>\u001b[1;34m\u001b[0m\n\u001b[0;32m      1\u001b[0m \u001b[1;32mimport\u001b[0m \u001b[0mcsv\u001b[0m\u001b[1;33m\u001b[0m\u001b[1;33m\u001b[0m\u001b[0m\n\u001b[0;32m      2\u001b[0m \u001b[1;32mimport\u001b[0m \u001b[0mnumpy\u001b[0m \u001b[1;32mas\u001b[0m \u001b[0mnp\u001b[0m\u001b[1;33m\u001b[0m\u001b[1;33m\u001b[0m\u001b[0m\n\u001b[1;32m----> 3\u001b[1;33m \u001b[1;32mfrom\u001b[0m \u001b[0mBaselineRemoval\u001b[0m \u001b[1;32mimport\u001b[0m \u001b[0mBaselineRemoval\u001b[0m\u001b[1;33m\u001b[0m\u001b[1;33m\u001b[0m\u001b[0m\n\u001b[0m\u001b[0;32m      4\u001b[0m \u001b[1;33m\u001b[0m\u001b[0m\n\u001b[0;32m      5\u001b[0m \u001b[1;33m\u001b[0m\u001b[0m\n",
      "\u001b[1;31mModuleNotFoundError\u001b[0m: No module named 'BaselineRemoval'"
     ]
    }
   ],
   "source": [
    "import csv\n",
    "import numpy as np\n",
    "from BaselineRemoval import BaselineRemoval\n",
    "\n",
    "path = r'C:/Users/Shirin/ShirinsFolder/Study/GMMProject/GMM_Python/20220512-GMM-Datasets-more-complex.csv'\n",
    "\n",
    "\n",
    "# with open(path, 'r', newline='') as f:\n",
    "#     reader = list(csv.reader(f, delimiter='\\t'))\n",
    "#     #header = next(reader)\n",
    "#     #rows = [header] + [[row[0], int(row[1])] for row in reader if row]\n",
    "\n",
    "reader = list(csv.reader(open(path, \"r\")))\n",
    "x = list(reader)\n",
    "result = np.array(x).astype('int')\n",
    "#result1 = result.reshape(-1)\n",
    "result1 = np.ravel(result)\n",
    "#result2 = result.reshape(72,7)\n",
    "data1 = np.array(result1).astype('int')\n",
    "data1 = data1.reshape(72, 8)\n",
    "\n",
    "x = data1[:, 0]\n",
    "y = data1[:, 1:]\n",
    "\n",
    "#self.y = np.ravel(self.y)\n",
    "\n",
    "#self.y = np.reshape(self.y, (72,7))\n",
    "#self.y = self.y.reshape(-1,7)\n",
    "y1 = y.T\n",
    "print(y1)"
   ]
  },
  {
   "cell_type": "code",
   "execution_count": 13,
   "metadata": {},
   "outputs": [
    {
     "data": {
      "text/plain": [
       "array([ 364.90467081,  368.34375392,  371.74854659,  375.05712413,\n",
       "        378.18818728,  381.05693221,  383.59434222,  385.75649346,\n",
       "        387.52522049,  388.90153833,  389.89000554,  390.48749156,\n",
       "        390.67907751,  390.44619678,  389.787284  ,  388.70510038,\n",
       "        387.20240816,  385.2819696 ,  382.94654694,  380.19890242,\n",
       "        377.04179828,  373.47799678,  369.51026015,  365.14135064,\n",
       "        360.3740305 ,  355.21106198,  349.65520731,  343.70922874,\n",
       "        337.37588852,  330.65794889,  323.5581721 ,  316.07932038,\n",
       "        308.224156  ,  299.99544119,  291.39593819,  282.42840926,\n",
       "        273.09561664,  263.40032256,  253.34528929,  242.93327905,\n",
       "        232.16705411,  221.04937669,  209.58300905,  197.77071344,\n",
       "        185.61525209,  173.11938726,  160.28588118,  147.1174961 ,\n",
       "        133.61699427,  119.78713794,  105.63068934,   91.15041073,\n",
       "         76.34906434,   61.22941242,   45.79421723,   30.04624099,\n",
       "         13.98824596,   -2.37700561,  -19.04675149,  -36.01822942,\n",
       "        -53.28867717,  -70.85533248,  -88.71543311, -106.86621683,\n",
       "       -125.30492137, -144.0287843 , -163.03502982, -182.29917005,\n",
       "       -201.77053216, -221.37581452, -241.05793804, -260.76338506])"
      ]
     },
     "execution_count": 13,
     "metadata": {},
     "output_type": "execute_result"
    }
   ],
   "source": [
    "import numpy as np\n",
    "\n",
    "from scipy import sparse\n",
    "\n",
    "from scipy.sparse.linalg import spsolve\n",
    "\n",
    "from scipy.linalg import cholesky\n",
    "\n",
    "def baseline_removals(y, lam=1e4, ratio=0.05, itermax=100):\n",
    "     \n",
    "        # data = self.data\n",
    "        # y = self.y1\n",
    "        #y_base = 0\n",
    "        \n",
    "        #for i in range(y.shape[0]):\n",
    "        N = len(y)\n",
    "        D = sparse.eye(N, format='csc')\n",
    "        # numpy.diff( ,2) does not work with sparse matrix. This is a workaround.\n",
    "        D = D[1:] - D[:-1]\n",
    "        D = D[1:] - D[:-1]\n",
    "        H = lam * D.T * D\n",
    "        w = np.ones(N)\n",
    "        #w = np.squeeze(np.asarray(w))\n",
    "        # offset = np.zeros(7)\n",
    "\n",
    "        for j in range(itermax):\n",
    "            W = sparse.diags(w, 0, shape=(N, N))\n",
    "            WH = sparse.csc_matrix(W + H)\n",
    "            C = sparse.csc_matrix(cholesky(WH.todense()))\n",
    "            tmp = y * w\n",
    "            gh = spsolve(C.T, tmp)\n",
    "            y_base = spsolve(C, gh)# spsolve(C, spsolve(C.T, w * y))\n",
    "            d = y - y_base\n",
    "            dn = d[d < 0]\n",
    "            m = np.mean(dn)\n",
    "            s = np.std(dn)\n",
    "            wt = 1 / (1 + np.exp(2 * (d - (2 * s - m)) / s))\n",
    "            if np.linalg.norm(w - wt) / np.linalg.norm(w) < ratio:\n",
    "                break\n",
    "            w = wt\n",
    "        return y_base\n",
    "\n",
    "\n",
    "path = r'C:/Users/Shirin/ShirinsFolder/Study/GMMProject/GMM_Python/20220512-GMM-Datasets-more-complex.csv'\n",
    "\n",
    "\n",
    "# with open(path, 'r', newline='') as f:\n",
    "#     reader = csv.reader(f, delimiter='\\t')\n",
    "#     #header = next(reader)\n",
    "#     #rows = [header] + [[row[0], int(row[1])] for row in reader if row]\n",
    "\n",
    "# reader = list(csv.reader(open(path, \"r\")))\n",
    "# x = list(reader)\n",
    "# result = np.array(x).astype('int')\n",
    "# #result1 = result.reshape(-1)\n",
    "# result1 = np.ravel(result)\n",
    "#result2 = result.reshape(72,7)\n",
    "\n",
    "##g = GaussianMixModel(result1)\n",
    "y = np.array([22, 92, 178, 340, 538, 661, 685, 582, 423, 312, 272, 354, 563, 921, 1404, 1870, 2204, 2195, 2019, 1858, 1928, 2344, 3103, 3923, 4692, 5140, 4973, 4627, 4428, 4461, 4856, 5336, 5926, 6423, 6696, 6687, 6410, 5753, 5221, 4609, 4220, 4142, 4152, 4235, 4514, 4764, 5250, 5838, 6835, 7910, 8910, 9780, 10488, 10779,  10339, 9420, 8457, 6964, 5610, 4384, 3356, 2302, 1753, 1001, 746, 248, 136, 54, -364, -257, -543, -494])\n",
    "baseline_removals(y, lam=1e4, ratio=0.05, itermax=100)"
   ]
  }
 ],
 "metadata": {
  "interpreter": {
   "hash": "db1cbb8da5081108346f91eebd54245786646964b3ed7ae58cb442f140f5fee4"
  },
  "kernelspec": {
   "display_name": "Python 3.9.6 64-bit",
   "language": "python",
   "name": "python3"
  },
  "language_info": {
   "codemirror_mode": {
    "name": "ipython",
    "version": 3
   },
   "file_extension": ".py",
   "mimetype": "text/x-python",
   "name": "python",
   "nbconvert_exporter": "python",
   "pygments_lexer": "ipython3",
   "version": "3.9.6"
  },
  "orig_nbformat": 4
 },
 "nbformat": 4,
 "nbformat_minor": 2
}
